{
 "cells": [
  {
   "cell_type": "markdown",
   "id": "e9d798c2",
   "metadata": {},
   "source": [
    "# Parcial 2\n",
    "#### Nancy Mazariegos 22513"
   ]
  },
  {
   "cell_type": "markdown",
   "id": "d46aef44",
   "metadata": {},
   "source": [
    "## Problema 1"
   ]
  },
  {
   "cell_type": "markdown",
   "id": "11e65d19",
   "metadata": {},
   "source": [
    "Explique porqué este problema exhibe subestructura óptima."
   ]
  },
  {
   "cell_type": "markdown",
   "id": "cf1bc77e",
   "metadata": {},
   "source": [
    "![Subestructura óptima](Subestructura_optima.jpeg)\n"
   ]
  },
  {
   "cell_type": "markdown",
   "id": "c40f575b",
   "metadata": {},
   "source": [
    "Explique una idea/solución que exhiba subproblemas traslapados e indique cómo los mismos\n",
    "subproblemas se computan repetidamente. "
   ]
  },
  {
   "cell_type": "markdown",
   "id": "83602f77",
   "metadata": {},
   "source": [
    "![Subproblemas traslapados](Subproblemas_traslapados.jpeg)"
   ]
  },
  {
   "cell_type": "markdown",
   "id": "05b61bd6",
   "metadata": {},
   "source": [
    "Sabemos que los problemas con subestructura óptima y subproblemas traslapados pueden resolverse utilizando programación dinámica, donde las soluciones de subproblemas se memoizan en lugar de calcularse repetidamente. Escriba un código en Python con enfoque de memoización top-down que resuelva este problema."
   ]
  },
  {
   "cell_type": "code",
   "execution_count": 1,
   "id": "3060cb9c",
   "metadata": {},
   "outputs": [
    {
     "name": "stdout",
     "output_type": "stream",
     "text": [
      "Diccionario de movimientos permitidos:\n",
      "1 -> ['1', '4', '2']\n",
      "2 -> ['2', '5', '1', '3']\n",
      "3 -> ['3', '6', '2']\n",
      "4 -> ['4', '1', '7', '5']\n",
      "5 -> ['5', '2', '8', '4', '6']\n",
      "6 -> ['6', '3', '9', '5']\n",
      "7 -> ['7', '4', '8']\n",
      "8 -> ['8', '5', '0', '7', '9']\n",
      "9 -> ['9', '6', '8']\n",
      "0 -> ['0', '8']\n",
      "\n",
      "Combinaciones para n = 2: 36\n",
      "Combinaciones para n = 10: 1806282\n"
     ]
    }
   ],
   "source": [
    "from functools import lru_cache\n",
    "\n",
    "keypad = [\n",
    "    ['1', '2', '3'],\n",
    "    ['4', '5', '6'],\n",
    "    ['7', '8', '9'],\n",
    "    ['*', '0', '#']\n",
    "]\n",
    "\n",
    "posiciones = {}\n",
    "for i in range(4):\n",
    "    for j in range(3):\n",
    "        val = keypad[i][j]\n",
    "        if val not in ['*', '#']:\n",
    "            posiciones[val] = (i, j)\n",
    "\n",
    "movimientos = {}\n",
    "for digit, (i, j) in posiciones.items():\n",
    "    movimientos[digit] = [digit]  \n",
    "    for dx, dy in [(-1,0), (1,0), (0,-1), (0,1)]:\n",
    "        ni, nj = i + dx, j + dy\n",
    "        if 0 <= ni < 4 and 0 <= nj < 3:\n",
    "            neighbor = keypad[ni][nj]\n",
    "            if neighbor not in ['*', '#']:\n",
    "                movimientos[digit].append(neighbor)\n",
    "\n",
    "print(\"Diccionario de movimientos permitidos:\")\n",
    "for k, v in movimientos.items():\n",
    "    print(f\"{k} -> {v}\")\n",
    "\n",
    "@lru_cache(maxsize=None)\n",
    "def caminos(d, n):\n",
    "    if n == 1:\n",
    "        return 1\n",
    "    return sum(caminos(neigh, n-1) for neigh in movimientos[d])\n",
    "\n",
    "def combinaciones_en_total(n):\n",
    "    return sum(caminos(d, n) for d in movimientos)\n",
    "\n",
    "print(\"\\nCombinaciones para n = 2:\", combinaciones_en_total(2))  \n",
    "print(\"Combinaciones para n = 10:\", combinaciones_en_total(10)) \n"
   ]
  },
  {
   "cell_type": "markdown",
   "id": "dc84408a",
   "metadata": {},
   "source": [
    "Encuentre el tiempo de complejidad para este algoritmo. Recuerde, deje su procedimiento."
   ]
  },
  {
   "cell_type": "markdown",
   "id": "6ffab0e5",
   "metadata": {},
   "source": [
    "![Tiempo de complejidad 1](Complejidad1.jpeg)"
   ]
  },
  {
   "cell_type": "markdown",
   "id": "54d0f8de",
   "metadata": {},
   "source": [
    "Usando su programa, encuentre las combinaciones totales posibles para n = 10."
   ]
  },
  {
   "cell_type": "code",
   "execution_count": 2,
   "id": "4107f4f5",
   "metadata": {},
   "outputs": [
    {
     "name": "stdout",
     "output_type": "stream",
     "text": [
      "Diccionario de movimientos permitidos:\n",
      "1 -> ['1', '4', '2']\n",
      "2 -> ['2', '5', '1', '3']\n",
      "3 -> ['3', '6', '2']\n",
      "4 -> ['4', '1', '7', '5']\n",
      "5 -> ['5', '2', '8', '4', '6']\n",
      "6 -> ['6', '3', '9', '5']\n",
      "7 -> ['7', '4', '8']\n",
      "8 -> ['8', '5', '0', '7', '9']\n",
      "9 -> ['9', '6', '8']\n",
      "0 -> ['0', '8']\n",
      "\n",
      "Combinaciones para n = 10: 1806282\n",
      "Combinaciones para n = 10: 1806282\n"
     ]
    }
   ],
   "source": [
    "from functools import lru_cache\n",
    "\n",
    "keypad = [\n",
    "    ['1', '2', '3'],\n",
    "    ['4', '5', '6'],\n",
    "    ['7', '8', '9'],\n",
    "    ['*', '0', '#']\n",
    "]\n",
    "\n",
    "posiciones = {}\n",
    "for i in range(4):\n",
    "    for j in range(3):\n",
    "        val = keypad[i][j]\n",
    "        if val not in ['*', '#']:\n",
    "            posiciones[val] = (i, j)\n",
    "\n",
    "movimientos = {}\n",
    "for digit, (i, j) in posiciones.items():\n",
    "    movimientos[digit] = [digit]  \n",
    "    for dx, dy in [(-1,0), (1,0), (0,-1), (0,1)]:\n",
    "        ni, nj = i + dx, j + dy\n",
    "        if 0 <= ni < 4 and 0 <= nj < 3:\n",
    "            neighbor = keypad[ni][nj]\n",
    "            if neighbor not in ['*', '#']:\n",
    "                movimientos[digit].append(neighbor)\n",
    "\n",
    "print(\"Diccionario de movimientos permitidos:\")\n",
    "for k, v in movimientos.items():\n",
    "    print(f\"{k} -> {v}\")\n",
    "\n",
    "@lru_cache(maxsize=None)\n",
    "def caminos(d, n):\n",
    "    if n == 1:\n",
    "        return 1\n",
    "    return sum(caminos(neigh, n-1) for neigh in movimientos[d])\n",
    "\n",
    "def combinaciones_en_total(n):\n",
    "    return sum(caminos(d, n) for d in movimientos)\n",
    "\n",
    "print(\"\\nCombinaciones para n = 10:\", combinaciones_en_total(10))  \n",
    "print(\"Combinaciones para n = 10:\", combinaciones_en_total(10)) \n"
   ]
  },
  {
   "cell_type": "markdown",
   "id": "392faa09",
   "metadata": {},
   "source": [
    "## Problema 2"
   ]
  },
  {
   "cell_type": "markdown",
   "id": "f82d4fc1",
   "metadata": {},
   "source": [
    "Escriba un código en Python que utilice un algoritmo de programación dinámica para resolver este problema. Comience por crear cuatro matrices auxiliares left[][], right[][], top[][], bottom[][], donde left[j][j], right[i][j], top[i][j] y bottom[i][j] que almacenan el número máximo de 1’s consecutivos presentes a la izquierda, derecha, arriba y abajo de la celda (i, j), incluida la celda (i, j), respectivamente, utilizando programación dinámica.\n",
    "\n",
    "Después de calcular las matrices anteriores, encuentre la celda (i, j) que tiene el valor máximo\n",
    "en cada dirección (considerando el mínimo entre left[i][j], right[i][j], top[i][j] y\n",
    "bottom[i][j])."
   ]
  },
  {
   "cell_type": "code",
   "execution_count": 3,
   "id": "84b91910",
   "metadata": {},
   "outputs": [],
   "source": [
    "def largest_plus(grid):\n",
    "    if not grid or not grid[0]:\n",
    "        return 0\n",
    "\n",
    "    n = len(grid)\n",
    "    m = len(grid[0])\n",
    "\n",
    "    left = [[0]*m for _ in range(n)]\n",
    "    right = [[0]*m for _ in range(n)]\n",
    "    top = [[0]*m for _ in range(n)]\n",
    "    bottom = [[0]*m for _ in range(n)]\n",
    "\n",
    "    for i in range(n):\n",
    "        for j in range(m):\n",
    "            if grid[i][j] == 1:\n",
    "                top[i][j] = 1 if i == 0 else top[i-1][j] + 1\n",
    "                left[i][j] = 1 if j == 0 else left[i][j-1] + 1\n",
    "\n",
    "    for i in reversed(range(n)):\n",
    "        for j in reversed(range(m)):\n",
    "            if grid[i][j] == 1:\n",
    "                bottom[i][j] = 1 if i == n-1 else bottom[i+1][j] + 1\n",
    "                right[i][j] = 1 if j == m-1 else right[i][j+1] + 1\n",
    "\n",
    "    max_cross = 0\n",
    "    for i in range(n):\n",
    "        for j in range(m):\n",
    "            if grid[i][j] == 1:\n",
    "                arm = min(top[i][j], bottom[i][j], left[i][j], right[i][j])\n",
    "                if arm > 0:\n",
    "                    size = 4 * (arm - 1) + 1\n",
    "                    max_cross = max(max_cross, size)\n",
    "\n",
    "    return max_cross\n"
   ]
  },
  {
   "cell_type": "markdown",
   "id": "e139b89e",
   "metadata": {},
   "source": [
    "Probando con el output:"
   ]
  },
  {
   "cell_type": "code",
   "execution_count": 5,
   "id": "78fccff7",
   "metadata": {},
   "outputs": [
    {
     "name": "stdout",
     "output_type": "stream",
     "text": [
      "Cruz más grande en grid1: 17\n",
      "Cruz más grande en grid2: 1\n"
     ]
    }
   ],
   "source": [
    "grid1 = [\n",
    "    [1,0,1,1,1,1,0,1,1,1],\n",
    "    [1,0,1,0,1,1,1,0,1,1],\n",
    "    [1,1,1,0,1,1,0,1,0,1],\n",
    "    [0,0,0,0,1,0,0,1,0,0],\n",
    "    [1,1,1,0,1,1,1,1,1,1],\n",
    "    [1,1,1,1,1,1,1,1,1,0],\n",
    "    [1,0,0,0,1,0,0,1,0,1],\n",
    "    [1,0,1,1,1,1,0,0,1,1],\n",
    "    [1,1,0,0,1,0,1,0,0,1],\n",
    "    [1,0,1,1,1,1,0,1,0,0]\n",
    "]\n",
    "\n",
    "print(\"Cruz más grande en grid1:\", largest_plus(grid1))  \n",
    "\n",
    "grid2 = [\n",
    "    [1,1,1,1,1,1],\n",
    "    [1,0,1,1,0,1],\n",
    "    [0,1,1,0,0,1],\n",
    "    [1,1,1,1,1,1],\n",
    "    [1,0,0,1,0,1],\n",
    "    [1,0,1,1,0,0]\n",
    "]\n",
    "\n",
    "print(\"Cruz más grande en grid2:\", largest_plus(grid2))  \n"
   ]
  },
  {
   "cell_type": "markdown",
   "id": "08429aaf",
   "metadata": {},
   "source": [
    "Encuentre el tiempo de complejidad para este algoritmo. Recuerde, deje su procedimiento."
   ]
  },
  {
   "cell_type": "markdown",
   "id": "a1abd151",
   "metadata": {},
   "source": [
    "![Tiempo de Complejidad 2](Complejidad2.jpeg)\n"
   ]
  }
 ],
 "metadata": {
  "kernelspec": {
   "display_name": "Python 3",
   "language": "python",
   "name": "python3"
  },
  "language_info": {
   "codemirror_mode": {
    "name": "ipython",
    "version": 3
   },
   "file_extension": ".py",
   "mimetype": "text/x-python",
   "name": "python",
   "nbconvert_exporter": "python",
   "pygments_lexer": "ipython3",
   "version": "3.11.11"
  }
 },
 "nbformat": 4,
 "nbformat_minor": 5
}
